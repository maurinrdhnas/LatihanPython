{
 "cells": [
  {
   "cell_type": "code",
   "execution_count": 1,
   "id": "e6064553-d5d8-4d4d-a800-f779e70957ae",
   "metadata": {},
   "outputs": [],
   "source": [
    "import Bio"
   ]
  },
  {
   "cell_type": "code",
   "execution_count": null,
   "id": "ad60058d-299f-48a2-b5a8-e6dec8b914df",
   "metadata": {},
   "outputs": [],
   "source": []
  }
 ],
 "metadata": {
  "kernelspec": {
   "display_name": "Python 3 (ipykernel)",
   "language": "python",
   "name": "python3"
  },
  "language_info": {
   "codemirror_mode": {
    "name": "ipython",
    "version": 3
   },
   "file_extension": ".py",
   "mimetype": "text/x-python",
   "name": "python",
   "nbconvert_exporter": "python",
   "pygments_lexer": "ipython3",
   "version": "3.9.7"
  }
 },
 "nbformat": 4,
 "nbformat_minor": 5
}
